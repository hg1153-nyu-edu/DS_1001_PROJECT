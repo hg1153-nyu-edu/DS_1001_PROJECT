{
 "cells": [
  {
   "cell_type": "code",
   "execution_count": 248,
   "metadata": {},
   "outputs": [
    {
     "data": {
      "text/plain": [
       "'\\nThis module deals with binary target variables\\n'"
      ]
     },
     "execution_count": 248,
     "metadata": {},
     "output_type": "execute_result"
    }
   ],
   "source": [
    "import pandas as pd\n",
    "from sklearn.linear_model import LogisticRegression\n",
    "from sklearn.ensemble import RandomForestClassifier\n",
    "from sklearn.linear_model import LinearRegression\n",
    "from sklearn.naive_bayes import GaussianNB\n",
    "import numpy as np\n",
    "'''\n",
    "This module deals with binary target variables\n",
    "'''"
   ]
  },
  {
   "cell_type": "code",
   "execution_count": 249,
   "metadata": {},
   "outputs": [],
   "source": [
    "column_names = ('duration',\n",
    "                'protocol_type',\n",
    "                'service',\n",
    "                'flag',\n",
    "                'src_bytes',\n",
    "                'dst_bytes',\n",
    "                'land',\n",
    "                'wrong_fragment',\n",
    "                'urgent',\n",
    "                'hot',\n",
    "                'num_failed_logins',\n",
    "                'logged_in',\n",
    "                'num_compromised',\n",
    "                'root_shell',\n",
    "                'su_attempted',\n",
    "                'num_root',\n",
    "                'num_file_creations',\n",
    "                'num_shells',\n",
    "                'num_access_files',\n",
    "                'num_outbound_cmds',\n",
    "                'is_host_login',\n",
    "                'is_guest_login',\n",
    "                'count',\n",
    "                'srv_count',\n",
    "                'serror_rate',\n",
    "                'srv_serror_rate',\n",
    "                'rerror_rate',\n",
    "                'srv_rerror_rate',\n",
    "                'same_srv_rate',\n",
    "                'diff_srv_rate',\n",
    "                'srv_diff_host_rate',\n",
    "                'dst_host_count',\n",
    "                'dst_host_srv_count',\n",
    "                'dst_host_same_srv_rate',\n",
    "                'dst_host_diff_srv_rate',\n",
    "                'dst_host_same_src_port_rate',\n",
    "                'dst_host_srv_diff_host_rate',\n",
    "                'dst_host_serror_rate',\n",
    "                'dst_host_srv_serror_rate',\n",
    "                'dst_host_rerror_rate',\n",
    "                'dst_host_srv_rerror_rate',\n",
    "                'Y')"
   ]
  },
  {
   "cell_type": "code",
   "execution_count": 250,
   "metadata": {},
   "outputs": [],
   "source": [
    "# Input training set \n",
    "train_X = pd.read_csv('../data/NSL-KDD/kddcup.data_10_percent', header=None, names=column_names)\n",
    "train_y = train_X['Y']\n",
    "train_X = train_X.drop('Y',axis = 1)"
   ]
  },
  {
   "cell_type": "code",
   "execution_count": 251,
   "metadata": {},
   "outputs": [
    {
     "data": {
      "text/plain": [
       "(311029, 41)"
      ]
     },
     "execution_count": 251,
     "metadata": {},
     "output_type": "execute_result"
    }
   ],
   "source": [
    "# Input test set\n",
    "test_X = pd.read_csv('../data/corrected',header=None, names=column_names)\n",
    "test_y = test_X['Y']\n",
    "test_X = test_X.drop('Y', axis = 1)\n",
    "test_X.shape"
   ]
  },
  {
   "cell_type": "code",
   "execution_count": 252,
   "metadata": {},
   "outputs": [],
   "source": [
    "# convert Y labels to binary labels\n",
    "unique_values = test_y.unique()\n",
    "unique_values_train = train_y.unique()\n",
    "test_y = test_y.replace('normal.',1)\n",
    "train_y = train_y.replace('normal.',1)\n",
    "unique_values = np.delete(unique_values,0)\n",
    "unique_values_train = np.delete(unique_values_train,0)\n",
    "test_y = test_y.replace(unique_values, 0)\n",
    "train_y = train_y.replace(unique_values_train, 0)"
   ]
  },
  {
   "cell_type": "code",
   "execution_count": 253,
   "metadata": {},
   "outputs": [],
   "source": [
    "# CONVERT CATEGORICAL VALUES TO FLOATS\n",
    "# By eye_browsing, columns protocotype, service and flag are categorical values and needed to be converted to ints\n",
    "train_X['service'] = train_X['service'].astype('category')\n",
    "train_X['service'] = train_X['service'].cat.codes\n",
    "train_X['protocol_type'] = train_X['protocol_type'].astype('category')\n",
    "train_X['protocol_type'] = train_X['protocol_type'].cat.codes\n",
    "train_X['flag'] = train_X['flag'].astype('category')\n",
    "train_X['flag'] = train_X['flag'].cat.codes\n",
    "\n",
    "test_X['service'] = test_X['service'].astype('category')\n",
    "test_X['service'] = test_X['service'].cat.codes\n",
    "test_X['protocol_type'] = test_X['protocol_type'].astype('category')\n",
    "test_X['protocol_type'] = test_X['protocol_type'].cat.codes\n",
    "test_X['flag'] = test_X['flag'].astype('category')\n",
    "test_X['flag'] = test_X['flag'].cat.codes"
   ]
  },
  {
   "cell_type": "code",
   "execution_count": 254,
   "metadata": {},
   "outputs": [],
   "source": [
    "# TRAIN MODELS\n",
    "def model_scoring(train_X, train_y, test_X, test_y, model, model_name):\n",
    "    print('-----------{} running-----------'.format(model_name))\n",
    "    \n",
    "    clf = model\n",
    "    clf.fit(train_X, train_y)\n",
    "    score = clf.score(test_X, test_y)\n",
    "    \n",
    "    print('score for {}'.format(model_name), score)"
   ]
  },
  {
   "cell_type": "code",
   "execution_count": 255,
   "metadata": {},
   "outputs": [
    {
     "name": "stdout",
     "output_type": "stream",
     "text": [
      "-----------LogisticRegression running-----------\n"
     ]
    },
    {
     "name": "stderr",
     "output_type": "stream",
     "text": [
      "/Users/honggong/miniconda3/lib/python3.7/site-packages/sklearn/linear_model/logistic.py:433: FutureWarning: Default solver will be changed to 'lbfgs' in 0.22. Specify a solver to silence this warning.\n",
      "  FutureWarning)\n"
     ]
    },
    {
     "name": "stdout",
     "output_type": "stream",
     "text": [
      "score for LogisticRegression 0.8382015824890927\n",
      "-----------RandomForestClassifier running-----------\n"
     ]
    },
    {
     "name": "stderr",
     "output_type": "stream",
     "text": [
      "/Users/honggong/miniconda3/lib/python3.7/site-packages/sklearn/ensemble/forest.py:246: FutureWarning: The default value of n_estimators will change from 10 in version 0.20 to 100 in 0.22.\n",
      "  \"10 in version 0.20 to 100 in 0.22.\", FutureWarning)\n"
     ]
    },
    {
     "name": "stdout",
     "output_type": "stream",
     "text": [
      "score for RandomForestClassifier 0.9275662398040054\n",
      "-----------LinearRegression running-----------\n",
      "score for LinearRegression 0.3738066814276778\n",
      "-----------Naive_Bayes running-----------\n",
      "score for Naive_Bayes 0.8762944934395185\n"
     ]
    },
    {
     "data": {
      "text/plain": [
       "'done'"
      ]
     },
     "execution_count": 255,
     "metadata": {},
     "output_type": "execute_result"
    }
   ],
   "source": [
    "models = [[LogisticRegression(),'LogisticRegression'],[RandomForestClassifier(), 'RandomForestClassifier'], \n",
    "         [LinearRegression(), 'LinearRegression'], [GaussianNB(), 'Naive_Bayes']]\n",
    "for model in models:\n",
    "    model_scoring(train_X, train_y, test_X, test_y, model[0], model[1])\n",
    "\n",
    "'done'"
   ]
  },
  {
   "cell_type": "markdown",
   "metadata": {},
   "source": [
    "From above result, we drop linear regression model"
   ]
  },
  {
   "cell_type": "code",
   "execution_count": 256,
   "metadata": {},
   "outputs": [],
   "source": [
    "del models[2]"
   ]
  },
  {
   "cell_type": "code",
   "execution_count": 257,
   "metadata": {},
   "outputs": [],
   "source": [
    "# FUNCTION TO PLOT AUC CURVES \n",
    "import matplotlib.pyplot as plt\n",
    "%matplotlib inline\n",
    "def plotUnivariateROC(preds, truth, label_string):\n",
    "    '''\n",
    "    preds is an nx1 array of predictions\n",
    "    truth is an nx1 array of truth labels\n",
    "    label_string is text to go into the plotting label\n",
    "    '''\n",
    "    #Student input code here\n",
    "    #1. call the roc_curve function to get the ROC X and Y values\n",
    "    fpr, tpr, thresholds = roc_curve(truth, preds)\n",
    "    #2. Input fpr and tpr into the auc function to get the AUC\n",
    "    roc_auc = auc(fpr, tpr)\n",
    "    \n",
    "    #we are doing this as a special case because we are sending unfitted predictions\n",
    "    #into the function\n",
    "    if roc_auc < 0.5:\n",
    "        fpr, tpr, thresholds = roc_curve(truth, -1 * preds)\n",
    "        roc_auc = auc(fpr, tpr)\n",
    "\n",
    "    #chooses a random color for plotting\n",
    "    c = (np.random.rand(), np.random.rand(), np.random.rand())\n",
    "\n",
    "    #create a plot and set some options\n",
    "    plt.plot(fpr, tpr, color = c, label = label_string + ' (AUC = %0.3f)' % roc_auc)\n",
    "    \n",
    "\n",
    "    plt.plot([0, 1], [0, 1], 'k--')\n",
    "    plt.xlim([0.0, 1.0])\n",
    "    plt.ylim([0.0, 1.0])\n",
    "    plt.xlabel('FPR')\n",
    "    plt.ylabel('TPR')\n",
    "    plt.title('ROC')\n",
    "    plt.legend(loc=\"lower right\")\n",
    "    \n",
    "    return roc_auc\n",
    "\n",
    "\n",
    "def model_pred(train_X, train_y, test_X, test_y, model, model_name):\n",
    "    print('-----------{} running-----------'.format(model_name))\n",
    "    \n",
    "    clf = model\n",
    "    clf.fit(train_X, train_y)\n",
    "    pred_prob = clf.predict_proba(test_X)[:,1]\n",
    "    \n",
    "    return pred_prob, test_y, model_name"
   ]
  },
  {
   "cell_type": "code",
   "execution_count": 259,
   "metadata": {},
   "outputs": [
    {
     "name": "stdout",
     "output_type": "stream",
     "text": [
      "-----------LogisticRegression running-----------\n"
     ]
    },
    {
     "name": "stderr",
     "output_type": "stream",
     "text": [
      "/Users/honggong/miniconda3/lib/python3.7/site-packages/sklearn/linear_model/logistic.py:433: FutureWarning: Default solver will be changed to 'lbfgs' in 0.22. Specify a solver to silence this warning.\n",
      "  FutureWarning)\n",
      "/Users/honggong/miniconda3/lib/python3.7/site-packages/sklearn/linear_model/base.py:297: RuntimeWarning: overflow encountered in exp\n",
      "  np.exp(prob, prob)\n"
     ]
    },
    {
     "name": "stdout",
     "output_type": "stream",
     "text": [
      "-----------RandomForestClassifier running-----------\n",
      "-----------Naive_Bayes running-----------\n"
     ]
    },
    {
     "data": {
      "image/png": "[encoded data removed]",
      "text/plain": [
       "<Figure size 864x432 with 1 Axes>"
      ]
     },
     "metadata": {
      "needs_background": "light"
     },
     "output_type": "display_data"
    }
   ],
   "source": [
    "from sklearn.metrics import roc_curve, auc\n",
    "\n",
    "fig = plt.figure(figsize = (12, 6))\n",
    "ax = plt.subplot(111)\n",
    "\n",
    "for model in models:\n",
    "    pred, truth, label_s = model_pred(train_X, train_y, test_X, test_y, model[0], model[1])\n",
    "    plotUnivariateROC(pred, truth, label_s)"
   ]
  },
  {
   "cell_type": "code",
   "execution_count": null,
   "metadata": {},
   "outputs": [],
   "source": []
  }
 ],
 "metadata": {
  "kernelspec": {
   "display_name": "Python 3",
   "language": "python",
   "name": "python3"
  },
  "language_info": {
   "codemirror_mode": {
    "name": "ipython",
    "version": 3
   },
   "file_extension": ".py",
   "mimetype": "text/x-python",
   "name": "python",
   "nbconvert_exporter": "python",
   "pygments_lexer": "ipython3",
   "version": "3.7.3"
  }
 },
 "nbformat": 4,
 "nbformat_minor": 2
}
